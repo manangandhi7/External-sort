{
 "cells": [
  {
   "cell_type": "code",
   "execution_count": 1,
   "metadata": {},
   "outputs": [],
   "source": [
    "import numpy as np\n",
    "import os"
   ]
  },
  {
   "cell_type": "code",
   "execution_count": 2,
   "metadata": {},
   "outputs": [],
   "source": [
    "buffer_size = 10000000"
   ]
  },
  {
   "cell_type": "code",
   "execution_count": 3,
   "metadata": {},
   "outputs": [],
   "source": [
    "def save_array_to_file(file_name, array_to_save):\n",
    "    np.savetxt(file_name, array_to_save, fmt = '%d')\n",
    "    \n",
    "def sort_and_write(file_name, array_to_sort):\n",
    "    array_to_sort.sort()\n",
    "    save_array_to_file(file_name, array_to_sort)"
   ]
  },
  {
   "cell_type": "code",
   "execution_count": null,
   "metadata": {},
   "outputs": [],
   "source": [
    "def read_x_int(file_, numbers_to_read):\n",
    "    array_ = []\n",
    "    num = file_.readline()\n",
    "    while(num and len(array_) < numbers_to_read):\n",
    "        if len(next_str) > 0:\n",
    "            \n",
    "        num = file_.readline()\n",
    "    return array_"
   ]
  },
  {
   "cell_type": "code",
   "execution_count": 11,
   "metadata": {},
   "outputs": [],
   "source": [
    "arr = np.arange(300000000)\n",
    "np.random.shuffle(arr)"
   ]
  },
  {
   "cell_type": "code",
   "execution_count": 12,
   "metadata": {},
   "outputs": [
    {
     "name": "stdout",
     "output_type": "stream",
     "text": [
      "Wall time: 13min 49s\n"
     ]
    }
   ],
   "source": [
    "%%time\n",
    "save_array_to_file('unsorted.csv', arr)\n",
    "arr = None"
   ]
  },
  {
   "cell_type": "code",
   "execution_count": 13,
   "metadata": {},
   "outputs": [
    {
     "name": "stdout",
     "output_type": "stream",
     "text": [
      "Wall time: 20min 54s\n"
     ]
    }
   ],
   "source": [
    "%%time\n",
    "read_arr = []\n",
    "\n",
    "count = 0\n",
    "chunk = 1\n",
    "with open('unsorted.csv') as f:\n",
    "    num = f.readline()\n",
    "    while (num):\n",
    "        read_arr.append(int(num))\n",
    "        \n",
    "        count = count + 1\n",
    "        if count % buffer_size == 0:\n",
    "            sort_and_write('./tmp/sorted_' + str(chunk), read_arr)\n",
    "            read_arr = []\n",
    "            chunk = chunk + 1\n",
    "        num = f.readline()\n",
    "if len(read_arr) > 0:\n",
    "    sort_and_write('./tmp/sorted_' + str(chunk), read_arr)"
   ]
  },
  {
   "cell_type": "code",
   "execution_count": 14,
   "metadata": {},
   "outputs": [
    {
     "name": "stdout",
     "output_type": "stream",
     "text": [
      "Wall time: 15min 15s\n"
     ]
    },
    {
     "data": {
      "text/plain": [
       "[None,\n",
       " None,\n",
       " None,\n",
       " None,\n",
       " None,\n",
       " None,\n",
       " None,\n",
       " None,\n",
       " None,\n",
       " None,\n",
       " None,\n",
       " None,\n",
       " None,\n",
       " None,\n",
       " None,\n",
       " None,\n",
       " None,\n",
       " None,\n",
       " None,\n",
       " None,\n",
       " None,\n",
       " None,\n",
       " None,\n",
       " None,\n",
       " None,\n",
       " None,\n",
       " None,\n",
       " None,\n",
       " None,\n",
       " None]"
      ]
     },
     "execution_count": 14,
     "metadata": {},
     "output_type": "execute_result"
    }
   ],
   "source": [
    "%%time\n",
    "import heapq\n",
    "\n",
    "sorted_file = open('sorted_external.csv', 'w+')\n",
    "\n",
    "files = [f for f in os.listdir('./tmp/') if os.path.isfile('./tmp/' + f)]\n",
    "\n",
    "list_opened_files = [open('./tmp/' + file_) for file_ in files]\n",
    "\n",
    "min_heap = []\n",
    "heapq.heapify(min_heap)\n",
    "\n",
    "for file_ in list_opened_files:\n",
    "    heapq.heappush(min_heap, (int(file_.readline()), file_))\n",
    "\n",
    "while(len(min_heap) > 0):\n",
    "    min_element = heapq.heappop(min_heap)\n",
    "    sorted_file.write(str(min_element[0]) + '\\n')\n",
    "    next_str = min_element[1].readline()\n",
    "    if next_str:\n",
    "        heapq.heappush(min_heap, (int(next_str), min_element[1]))\n",
    "    \n",
    "sorted_file.close()\n",
    "\n",
    "[f.close() for f in list_opened_files]"
   ]
  },
  {
   "cell_type": "code",
   "execution_count": 15,
   "metadata": {},
   "outputs": [],
   "source": [
    "read_arr = None"
   ]
  },
  {
   "cell_type": "code",
   "execution_count": 4,
   "metadata": {},
   "outputs": [
    {
     "name": "stdout",
     "output_type": "stream",
     "text": [
      "Wall time: 3min 10s\n"
     ]
    }
   ],
   "source": [
    "%%time\n",
    "read_arr = []\n",
    "\n",
    "with open('unsorted.csv') as f:\n",
    "    num = f.readline()\n",
    "    while (num):\n",
    "        read_arr.append(int(num))\n",
    "        num = f.readline()"
   ]
  },
  {
   "cell_type": "code",
   "execution_count": null,
   "metadata": {},
   "outputs": [],
   "source": [
    "%%time\n",
    "read_arr.sort()"
   ]
  },
  {
   "cell_type": "code",
   "execution_count": null,
   "metadata": {},
   "outputs": [],
   "source": [
    "%%time\n",
    "save_array_to_file('sorted_in_mem.csv', read_arr)"
   ]
  },
  {
   "cell_type": "code",
   "execution_count": null,
   "metadata": {},
   "outputs": [],
   "source": []
  }
 ],
 "metadata": {
  "kernelspec": {
   "display_name": "Python 3",
   "language": "python",
   "name": "python3"
  },
  "language_info": {
   "codemirror_mode": {
    "name": "ipython",
    "version": 3
   },
   "file_extension": ".py",
   "mimetype": "text/x-python",
   "name": "python",
   "nbconvert_exporter": "python",
   "pygments_lexer": "ipython3",
   "version": "3.7.3"
  }
 },
 "nbformat": 4,
 "nbformat_minor": 4
}
